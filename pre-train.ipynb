{
 "cells": [
  {
   "cell_type": "markdown",
   "metadata": {},
   "source": [
    "# Models Pre-Training\n",
    "## Installing requirements"
   ]
  },
  {
   "cell_type": "code",
   "execution_count": null,
   "metadata": {},
   "outputs": [],
   "source": [
    "! pip install -r powershell-offensive-code-generation/requirements.txt "
   ]
  },
  {
   "cell_type": "markdown",
   "metadata": {},
   "source": [
    "Note: **The pre-training procedure requires CUDA technology and APEX drivers**"
   ]
  },
  {
   "cell_type": "markdown",
   "metadata": {},
   "source": [
    "## Code T5 plus Pre-training"
   ]
  },
  {
   "cell_type": "code",
   "execution_count": null,
   "metadata": {},
   "outputs": [],
   "source": [
    "\n",
    "model_checkpoint=\"Salesforce/codet5p-220m-py\"\n",
    "\n",
    "import pandas as pd\n",
    "import logging as lg\n",
    "import os\n",
    "\n",
    "def extract_data(path) -> pd.DataFrame:\n",
    "    print(path)\n",
    "    with open(path, 'r') as f:\n",
    "        list_cmd = [elem.strip() for elem in f.readlines()]\n",
    "    f.close()\n",
    "    lg.debug(f\"Extracted {path}: {str(len(list_cmd))}\")\n",
    "\n",
    "    return pd.DataFrame(data={ \"Command\": list_cmd})\n",
    "\n",
    "df_data = extract_data(\"powershell-offensive-code-generation/notebooks/00-dataset/pretraining/train.txt\")\n",
    "df_data.shape"
   ]
  },
  {
   "cell_type": "code",
   "execution_count": null,
   "metadata": {},
   "outputs": [],
   "source": [
    "import datasets\n",
    "from transformers import AutoTokenizer\n",
    "\n",
    "\n",
    "data = datasets.Dataset.from_pandas(df_data)\n",
    "\n",
    "tokenizer = AutoTokenizer.from_pretrained(model_checkpoint, use_fast = True, padding='max_length',max_length=256, truncation=True)\n",
    "\n",
    "def tokenize_function(examples):\n",
    "    return tokenizer(examples[\"Command\"], padding='max_length',max_length=256, truncation=True)\n",
    "\n",
    "tokenized_dataset = data.map(tokenize_function, batched=True, num_proc=4, remove_columns=[\"Command\"])\n",
    "tokenized_dataset"
   ]
  },
  {
   "cell_type": "code",
   "execution_count": null,
   "metadata": {},
   "outputs": [],
   "source": [
    "from transformers import T5ForConditionalGeneration,TrainingArguments, set_seed,DataCollatorForLanguageModeling, Trainer\n",
    "\n",
    "model = T5ForConditionalGeneration.from_pretrained(model_checkpoint)\n",
    "model.config.use_cache=False\n",
    "\n",
    "set_seed(42)\n",
    "\n",
    "model_name = model_checkpoint.split(\"/\")[-1]\n",
    "training_args = TrainingArguments(\n",
    "    model,\n",
    "    save_strategy = \"steps\",\n",
    "    save_steps = 3000,\n",
    "    save_total_limit=5,\n",
    "    learning_rate=2e-5,\n",
    "    weight_decay=0.01,\n",
    "    num_train_epochs = 1,\n",
    "    fp16=False,\n",
    "    per_device_train_batch_size = 8,\n",
    "    gradient_accumulation_steps = 2,\n",
    "    remove_unused_columns=False,\n",
    "    do_eval = False,   \n",
    "    evaluation_strategy=\"no\",\n",
    "    seed = 42,\n",
    "    logging_steps = 200\n",
    ")\n",
    "\n",
    "data_collator = DataCollatorForLanguageModeling(tokenizer=tokenizer, mlm_probability=0.15)\n",
    "\n",
    "trainer = Trainer(\n",
    "    model=model,\n",
    "    args=training_args,\n",
    "    train_dataset=tokenized_dataset,\n",
    "    data_collator=data_collator,\n",
    ")"
   ]
  },
  {
   "cell_type": "code",
   "execution_count": null,
   "metadata": {},
   "outputs": [],
   "source": [
    "trainer.train(resume_from_checkpoint=True)\n",
    "trainer.save_model(\"codet5p-pretrained.pth\")\n",
    "tokenizer.save_pretrained(\"codet5p-tokenizer\")"
   ]
  },
  {
   "cell_type": "markdown",
   "metadata": {},
   "source": [
    "# CodeGen Pre-Train\n",
    "\n",
    "In order to perform this type of procedure, it is necessary to utilise a machine equipped with an Nvidia GPU and at least 16 GB of VRAM. In point of fact, should the error message \"torch.cuda.OutOfMemoryError: In the event that the error \"CUDA out of memory\" is encountered, it can be inferred that the available VRAM is insufficient."
   ]
  },
  {
   "cell_type": "code",
   "execution_count": null,
   "metadata": {},
   "outputs": [],
   "source": [
    "!CUDA_LAUNCH_BLOCKING=1 python3 powershell-offensive-code-generation/text-to-code/CodeCompletion-token/code/run_lm.py  \\\n",
    "        --data_dir 'powershell-offensive-code-generation/notebooks/00-dataset/pretraining/' \\\n",
    "        --langs 'powershell' \\\n",
    "        --output_dir '.' \\\n",
    "        --pretrain_dir 'Salesforce/codegen-350M-multi' \\\n",
    "        --model_type=codegen \\\n",
    "        --block_size=256 \\\n",
    "        --do_train \\\n",
    "        --not_pretrain \\\n",
    "        --node_index 0 \\\n",
    "        --gpu_per_node 1 \\\n",
    "        --learning_rate=5e-5 \\\n",
    "        --weight_decay=0.01 \\\n",
    "        --per_gpu_train_batch_size=4 \\\n",
    "        --gradient_accumulation_steps=2 \\\n",
    "        --num_train_epochs=1 \\\n",
    "        --logging_steps=200 \\\n",
    "        --save_steps=4000 \\\n",
    "        --save_total_limit=1 \\\n",
    "        --overwrite_output_dir \\\n",
    "        --log_file='log_pretraining_codegen' \\\n",
    "        --seed=42 \\\n",
    "        --hf_token ''"
   ]
  },
  {
   "cell_type": "markdown",
   "metadata": {},
   "source": [
    "## CodeGPT pre-training"
   ]
  },
  {
   "cell_type": "code",
   "execution_count": null,
   "metadata": {},
   "outputs": [],
   "source": [
    "!python3 powershell-offensive-code-generation/text-to-code/CodeCompletion-token/code/run_lm.py \\\n",
    "        --data_dir 'powershell-offensive-code-generation/notebooks/00-dataset/pretraining/' \\\n",
    "        --langs 'powershell' \\\n",
    "        --output_dir '.' \\\n",
    "        --pretrain_dir 'microsoft/CodeGPT-small-py' \\\n",
    "        --model_type=gpt2 \\\n",
    "        --block_size=256 \\\n",
    "        --do_train \\\n",
    "        --not_pretrain \\\n",
    "        --node_index 0 \\\n",
    "        --gpu_per_node 1 \\\n",
    "        --learning_rate=5e-5 \\\n",
    "        --weight_decay=0.01 \\\n",
    "        --per_gpu_train_batch_size=4 \\\n",
    "        --gradient_accumulation_steps=2 \\\n",
    "        --num_train_epochs=1 \\\n",
    "        --logging_steps=200 \\\n",
    "        --save_steps=10000 \\\n",
    "        --save_total_limit=1 \\\n",
    "        --overwrite_output_dir \\\n",
    "        --log_file='log_pretraining_codegpt' \\\n",
    "        --seed=42 \\\n",
    "        --hf_token ''"
   ]
  }
 ],
 "metadata": {
  "kernelspec": {
   "display_name": "llms",
   "language": "python",
   "name": "python3"
  },
  "language_info": {
   "codemirror_mode": {
    "name": "ipython",
    "version": 3
   },
   "file_extension": ".py",
   "mimetype": "text/x-python",
   "name": "python",
   "nbconvert_exporter": "python",
   "pygments_lexer": "ipython3",
   "version": "3.10.12"
  }
 },
 "nbformat": 4,
 "nbformat_minor": 2
}
