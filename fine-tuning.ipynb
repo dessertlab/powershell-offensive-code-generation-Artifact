{
 "cells": [
  {
   "cell_type": "markdown",
   "metadata": {},
   "source": [
    "# Training\n",
    "This notebook needs what is produced by the pre-training notebook, update paths where pre-trained models are present.\n",
    "The fine tuning of pre-trained model of CodeGPT and CodeGEN has been conducted relyng on Microsoft's [CodeXGlue](https://github.com/microsoft/CodeXGLUE) framework, therefore the fine-tuning only needs to run:\n",
    "\n"
   ]
  },
  {
   "cell_type": "markdown",
   "metadata": {},
   "source": [
    "## CodeGPT"
   ]
  },
  {
   "cell_type": "code",
   "execution_count": null,
   "metadata": {},
   "outputs": [],
   "source": [
    "!CUDA_LAUNCH_BLOCKING=1 python3 powershell-offensive-code-generation/text-to-code/Text-Code/text-to-code/code/run.py  \\\n",
    "        --data_dir=\"powershell-offensive-code-generation/notebooks/00-dataset/json/\" \\\n",
    "        --langs=\"powershell\" \\\n",
    "        --output_dir=\"./output\" \\\n",
    "        --pretrain_dir='[INSERT PATH]' \\\n",
    "        --model_type=gpt2 \\\n",
    "        --do_train \\\n",
    "        --do_infer \\\n",
    "        --node_index 0 \\\n",
    "        --gpu_per_node 1 \\\n",
    "        --learning_rate=5e-5 \\\n",
    "        --weight_decay=0.01 \\\n",
    "        --block_size=1024 \\\n",
    "        --evaluate_during_training \\\n",
    "        --per_gpu_train_batch_size=1 \\\n",
    "        --per_gpu_eval_batch_size=4 \\\n",
    "        --gradient_accumulation_steps=4 \\\n",
    "        --num_train_epochs=30 \\\n",
    "        --logging_steps=200 \\\n",
    "        --save_steps=400 \\\n",
    "        --save_total_limit=1 \\\n",
    "        --overwrite_output_dir \\\n",
    "        --log_file='./content/text2code.log'\\\n",
    "        --seed=42 \\\n",
    "        --hf_token=\"\""
   ]
  },
  {
   "cell_type": "markdown",
   "metadata": {},
   "source": [
    "## CodeGen"
   ]
  },
  {
   "cell_type": "code",
   "execution_count": null,
   "metadata": {},
   "outputs": [],
   "source": [
    "!CUDA_LAUNCH_BLOCKING=1 python3 powershell-offensive-code-generation/text-to-code/Text-Code/text-to-code/code/run.py  \\\n",
    "        --data_dir=\"powershell-offensive-code-generation/notebooks/00-dataset/json/\" \\\n",
    "        --langs=\"powershell\" \\\n",
    "        --output_dir=\"./output\" \\\n",
    "        --pretrain_dir='[INSERT PATH]' \\                 \n",
    "        --model_type=codegen \\\n",
    "        --do_train \\\n",
    "        --do_infer \\\n",
    "        --node_index 0 \\\n",
    "        --gpu_per_node 1 \\\n",
    "        --learning_rate=5e-5 \\\n",
    "        --weight_decay=0.01 \\\n",
    "        --block_size=1024 \\\n",
    "        --evaluate_during_training \\\n",
    "        --per_gpu_train_batch_size=1 \\\n",
    "        --per_gpu_eval_batch_size=4 \\\n",
    "        --gradient_accumulation_steps=4 \\\n",
    "        --num_train_epochs=30 \\\n",
    "        --logging_steps=200 \\\n",
    "        --save_steps=400 \\\n",
    "        --save_total_limit=1 \\\n",
    "        --overwrite_output_dir \\\n",
    "        --log_file='./content/text2code.log'\\\n",
    "        --seed=42 \\\n",
    "        --hf_token=\"\""
   ]
  },
  {
   "cell_type": "markdown",
   "metadata": {},
   "source": [
    "## Code t5 plus"
   ]
  },
  {
   "cell_type": "code",
   "execution_count": null,
   "metadata": {},
   "outputs": [],
   "source": [
    "import torch\n",
    "from torch.utils.data import DataLoader\n",
    "from transformers import T5ForConditionalGeneration, AutoTokenizer\n",
    "from datasets import load_dataset\n",
    "from tqdm import tqdm as tqdm_bar\n",
    "\n",
    "device = torch.device('cuda' if torch.cuda.is_available() else 'cpu')\n",
    "\n",
    "checkpoint = [PATH OF PRETRAINED MODEL]                                                                 # INSERT PATH\n",
    "# Load the model and tokenizer\n",
    "model = T5ForConditionalGeneration.from_pretrained(checkpoint).to(device)\n",
    "tokenizer = AutoTokenizer.from_pretrained(checkpoint)\n",
    "\n",
    "# Load the dataset\n",
    "dataset = load_dataset('dessertlab/offensive-powershell')\n",
    "\n",
    "# Preprocess the data\n",
    "def preprocess(data):\n",
    "    encoding = tokenizer(data['nl'], truncation=True, padding='max_length', max_length=512)\n",
    "    labels = tokenizer(data['code'], truncation=True, padding='max_length', max_length=512).input_ids\n",
    "    encoding['labels'] = labels\n",
    "    return encoding\n",
    "\n",
    "dataset = dataset.map(preprocess, batched=True)\n",
    "dataset =  dataset.with_format(\"torch\", device=device)\n",
    "# Split the dataset\n",
    "train_dataset = dataset['train']\n",
    "val_dataset = dataset['dev']\n",
    "\n",
    "# Create data loaders\n",
    "train_loader = DataLoader(train_dataset, batch_size=1, shuffle=True)\n",
    "val_loader = DataLoader(val_dataset, batch_size=1)\n",
    "\n",
    "# Define the optimizer and loss function\n",
    "optimizer = torch.optim.AdamW(model.parameters(), lr=5e-5,weight_decay=0.01)\n",
    "loss_fn = torch.nn.CrossEntropyLoss(ignore_index=tokenizer.pad_token_id)\n",
    "\n"
   ]
  },
  {
   "cell_type": "code",
   "execution_count": null,
   "metadata": {},
   "outputs": [],
   "source": [
    "# Training loop\n",
    "\n",
    "accumulation_steps = 2\n",
    "num_epochs = 30\n",
    "\n",
    "\n",
    "model.train(mode=True)\n",
    "for epoch in range(num_epochs):\n",
    "    total_loss = 0.0\n",
    "\n",
    "    with tqdm_bar(total=len(train_loader), desc=f'Epoch {epoch + 1}/{num_epochs}', unit='batch') as pbar:\n",
    "        for batch_idx, batch in enumerate(train_loader):\n",
    "            optimizer.zero_grad()\n",
    "            input_ids = batch['input_ids'].to(device)\n",
    "            attention_mask = batch['attention_mask'].to(device)\n",
    "            labels = batch['labels'].to(device)\n",
    "            outputs = model(input_ids=input_ids, attention_mask=attention_mask, labels=labels)\n",
    "            loss = outputs.loss\n",
    "            loss.backward()\n",
    "            # Accumulate gradients\n",
    "\n",
    "            if (batch_idx + 1) % accumulation_steps == 0 or batch_idx == len(train_loader) - 1:\n",
    "                optimizer.step()\n",
    "                optimizer.zero_grad()\n",
    "\n",
    "            pbar.update(1)\n",
    "\n",
    "            pbar.set_postfix({'Loss': loss.item()})\n",
    "\n",
    "        model.eval()\n",
    "        val_loss = 0\n",
    "        with torch.no_grad():\n",
    "            for batch in val_loader:\n",
    "                input_ids = batch['input_ids'].to(model.device)\n",
    "                attention_mask = batch['attention_mask'].to(model.device)\n",
    "                labels = batch['labels'].to(model.device)\n",
    "                outputs = model(input_ids=input_ids, attention_mask=attention_mask, labels=labels)\n",
    "                val_loss += outputs.loss.item()\n",
    "        print(f'Epoch: {epoch}, Validation Loss: {val_loss/len(val_loader)}')"
   ]
  }
 ],
 "metadata": {
  "kernelspec": {
   "display_name": "llms",
   "language": "python",
   "name": "python3"
  },
  "language_info": {
   "codemirror_mode": {
    "name": "ipython",
    "version": 3
   },
   "file_extension": ".py",
   "mimetype": "text/x-python",
   "name": "python",
   "nbconvert_exporter": "python",
   "pygments_lexer": "ipython3",
   "version": "3.10.12"
  }
 },
 "nbformat": 4,
 "nbformat_minor": 2
}
